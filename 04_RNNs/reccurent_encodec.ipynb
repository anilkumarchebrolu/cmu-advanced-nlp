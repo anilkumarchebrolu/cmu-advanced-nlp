{
 "cells": [
  {
   "cell_type": "markdown",
   "id": "70e74f11",
   "metadata": {},
   "source": [
    "> **Note:** This notebook is my personal practice notebook on Feedforward neural language model\n",
    ">  \n",
    "> I’m following along with the course materials and using ideas/code inspired by:\n",
    "> \n",
    "> - [CMU ANLP Course Page](https://cmu-l3.github.io/anlp-spring2025/)  \n",
    ">   *(Lecture 4: Recurrent Neural Networks, Spring 2025)*  "
   ]
  },
  {
   "cell_type": "markdown",
   "id": "171824a8",
   "metadata": {},
   "source": [
    "## Notebook Outline\n",
    "\n",
    "1. [Dataset Preparation ](#dataset-preparation)\n",
    "2. [Understanding Attention](#understanding-attention)\n",
    "3. [Creating Encoder Decoder Architecture](#creating-encoder-decoder-architecture)\n",
    "4. [Training](#Training)\n",
    "5. [Generation](#generation)\n",
    "6. [Visualize Attention](#visualize-attention)\n",
    "7. [Saving the Model](#saving-the-model)"
   ]
  },
  {
   "cell_type": "code",
   "execution_count": 64,
   "id": "778d4c3b",
   "metadata": {},
   "outputs": [],
   "source": [
    "# Imports\n",
    "import random\n",
    "import torch\n",
    "\n",
    "from torch import nn\n",
    "from torch.nn import functional as F\n",
    "from torch import optim\n",
    "from typing import List, Dict, Tuple\n",
    "\n",
    "random.seed(123)"
   ]
  },
  {
   "cell_type": "markdown",
   "id": "23c631e4",
   "metadata": {},
   "source": [
    "#### Dataset Preparation \n",
    "\n",
    "Task: reversing names\n",
    "\n",
    "Our task will be to reverse a name, e.g.:\n",
    "\n",
    "    sophia -> aihpos\n",
    "\n",
    "To make the model learn an additional simple pattern, we'll also add a noise character after each character of the input, e.g.:\n",
    "\n",
    "    suorpxhziwa -> aihpos\n",
    "\n",
    "As a spoiler, we'll be able to see the model attending to non-noise characters."
   ]
  },
  {
   "cell_type": "code",
   "execution_count": 65,
   "id": "d3a2fe57",
   "metadata": {},
   "outputs": [
    {
     "name": "stdout",
     "output_type": "stream",
     "text": [
      "['emma', 'olivia', 'ava', 'isabella', 'sophia', 'charlotte', 'mia', 'amelia', 'harper', 'evelyn']\n"
     ]
    }
   ],
   "source": [
    "# Understanding the data\n",
    "data = open('names.txt').read().splitlines()\n",
    "print(data[:10])"
   ]
  },
  {
   "cell_type": "code",
   "execution_count": 66,
   "id": "833ba19f",
   "metadata": {},
   "outputs": [],
   "source": [
    "token_to_index = {tok: i for i, tok in enumerate('abcdefghijklmnopqrstuvwxyz')}\n",
    "\n",
    "# Start/stop token\n",
    "token_to_index['[S]'] = 26\n",
    "\n",
    "# Padding token\n",
    "token_to_index['[PAD]'] = 27\n",
    "\n",
    "index_to_token = {i: tok for tok, i in token_to_index.items()}"
   ]
  },
  {
   "cell_type": "code",
   "execution_count": 67,
   "id": "97e1fd04",
   "metadata": {},
   "outputs": [],
   "source": [
    "# Creating the Dataset class\n",
    "# Our dataset consists of x, y pairs, where x is a (n-1) token context and y is a token\n",
    "\n",
    "class Dataset:\n",
    "    \"\"\"\n",
    "    Dataset class for building context-target pairs from a sequence of tokens.\n",
    "    \"\"\"\n",
    "    def __init__(self, token_to_index:Dict[str, int]):\n",
    "        self.token_to_index = token_to_index\n",
    "\n",
    "    def build_dataset(self, data:List[str]) -> Tuple[torch.Tensor, torch.Tensor]:\n",
    "        \"\"\"\n",
    "        Build the dataset of context-target pairs.\n",
    "\n",
    "        Args:\n",
    "            data (List[str]): List of string sequences.\n",
    "        \"\"\" \n",
    "        X, Yin, Yout = [], [], []\n",
    "        for item in data:\n",
    "            x_tokens = []\n",
    "            for token in item:\n",
    "                x_tokens.append(token)\n",
    "                x_tokens.append(random.choice('abcdefghijklmnopqrstuvwxyz')) # Adding noise token\n",
    "            y_tokens = ['[S]'] + list(reversed(item)) + ['[S]']\n",
    "\n",
    "            x_indices = [token_to_index[token] for token in x_tokens]\n",
    "            y_indices = [token_to_index[token] for token in y_tokens]\n",
    "\n",
    "            X.append(x_indices)\n",
    "            Yin.append(y_indices[:-1])\n",
    "            Yout.append(y_indices[1:])\n",
    "        return X, Yin, Yout"
   ]
  },
  {
   "cell_type": "code",
   "execution_count": 68,
   "id": "6d82d942",
   "metadata": {},
   "outputs": [
    {
     "data": {
      "text/plain": [
       "(25626, 25626, 25626)"
      ]
     },
     "execution_count": 68,
     "metadata": {},
     "output_type": "execute_result"
    }
   ],
   "source": [
    "random.shuffle(data)\n",
    "\n",
    "n1 = int(0.8 * len(data))\n",
    "n2 = int(0.9 * len(data))\n",
    "\n",
    "dataset = Dataset(token_to_index)\n",
    "x_train, y_in_train, y_out_train = dataset.build_dataset(data[:n1])\n",
    "x_dev, y_in_dev, y_out_dev = dataset.build_dataset(data[n1:n2])\n",
    "x_test, y_in_test, y_out_test = dataset.build_dataset(data[n2:])\n",
    "len(x_train), len(y_in_train), len(y_out_train)"
   ]
  },
  {
   "cell_type": "markdown",
   "id": "6d6824e6",
   "metadata": {},
   "source": [
    "#### Understanding Attention"
   ]
  },
  {
   "cell_type": "code",
   "execution_count": 71,
   "id": "6b1e0706",
   "metadata": {},
   "outputs": [],
   "source": [
    "class DotAttention(nn.Module):\n",
    "    def __init__(self):\n",
    "        super(DotAttention, self).__init__()\n",
    "\n",
    "    def forward(self, query, keys, values):\n",
    "        # query: (B, Ty, D)\n",
    "        # keys: (B, Tx, D)\n",
    "        # values: (B, Tx, D) \n",
    "        dot = torch.bmm(keys, query.transpose(1, 2))\n",
    "        weights = torch.softmax(dot, dim=1)\n",
    "        out = torch.bmm(weights.transpose(1, 2), values)\n",
    "        return out, weights"
   ]
  },
  {
   "cell_type": "code",
   "execution_count": 36,
   "id": "2a501de8",
   "metadata": {},
   "outputs": [
    {
     "name": "stdout",
     "output_type": "stream",
     "text": [
      "query=tensor([[[ 1.5410, -0.2934, -2.1788,  0.5684],\n",
      "         [-1.0845, -1.3986,  0.4033,  0.8380]]])\n",
      "keys=tensor([[[-0.7193, -0.4033, -0.5966,  0.1820],\n",
      "         [-0.8567,  1.1006, -1.0712,  0.1227],\n",
      "         [-0.5663,  0.3731, -0.8920, -1.5091]]])\n",
      "values=tensor([[[ 0.3704,  1.4565,  0.9398,  0.7748],\n",
      "         [ 0.1919,  1.2638, -1.2904, -0.7911],\n",
      "         [-0.0209, -0.7185,  0.5186, -1.3125]]])\n"
     ]
    }
   ],
   "source": [
    "# Understanding Attention block with random data\n",
    "\n",
    "B, Tx, Ty, D = 1, 3, 2, 4\n",
    "\n",
    "torch.manual_seed(0)  # reproducibility\n",
    "\n",
    "query  = torch.randn(B, Ty, D)  # decoder hidden states\n",
    "keys   = torch.randn(B, Tx, D)  # encoder hidden states\n",
    "values = torch.randn(B, Tx, D)  # same shape as keys\n",
    "\n",
    "print(f'{query=}')\n",
    "print(f'{keys=}')\n",
    "print(f'{values=}')"
   ]
  },
  {
   "cell_type": "code",
   "execution_count": 70,
   "id": "ea088ab9",
   "metadata": {},
   "outputs": [
    {
     "name": "stdout",
     "output_type": "stream",
     "text": [
      "Output shape: torch.Size([1, 2, 4])\n",
      "Weights shape: torch.Size([1, 3, 2])\n",
      "Weights: tensor([[[0.3176, 0.8526],\n",
      "         [0.4494, 0.0949],\n",
      "         [0.2330, 0.0525]]])\n",
      "Out: tensor([[[ 0.1990,  0.8632, -0.1606, -0.4152],\n",
      "         [ 0.3329,  1.3241,  0.7061,  0.5167]]])\n"
     ]
    }
   ],
   "source": [
    "attention = DotAttention()\n",
    "\n",
    "out, weights = attention(query, keys, values)\n",
    "print(\"Output shape:\", out.shape)\n",
    "print(\"Weights shape:\", weights.shape)\n",
    "print(\"Weights:\", weights)\n",
    "print(\"Out:\", out)"
   ]
  },
  {
   "cell_type": "markdown",
   "id": "61d90036",
   "metadata": {},
   "source": [
    "#### Creating Encoder Decoder Architecture"
   ]
  },
  {
   "cell_type": "code",
   "execution_count": 97,
   "id": "474ae38d",
   "metadata": {},
   "outputs": [],
   "source": [
    "class EncoderDecoder(nn.Module):\n",
    "    def __init__(self, vocab_size, embed_size, hidden_size):\n",
    "        super(EncoderDecoder, self).__init__()\n",
    "        self.embedding = nn.Embedding(num_embeddings=vocab_size, embedding_dim=embed_size)\n",
    "        self.encoder = nn.GRU(embed_size, hidden_size, batch_first=True)\n",
    "        self.decoder = nn.GRU(embed_size, hidden_size, batch_first=True)\n",
    "\n",
    "        self.attention = DotAttention()\n",
    "        self.query = nn.Linear(hidden_size, hidden_size)\n",
    "        self.out = nn.Linear(hidden_size*2, vocab_size)\n",
    "\n",
    "    def forward(self, x, y_in):\n",
    "        # encode\n",
    "        x = self.embedding(x)\n",
    "        henc, henc_last = self.encoder(x)\n",
    "\n",
    "        # decode\n",
    "        y_in_embed = self.embedding(y_in)\n",
    "        hdec, _ = self.decoder(y_in_embed, henc_last)\n",
    "\n",
    "        # Attention\n",
    "        query = self.query(hdec)\n",
    "        context, _ =self.attention(query, henc, henc)\n",
    "\n",
    "        # combine\n",
    "        out = torch.cat([hdec, context], dim=2)\n",
    "        out = self.out(out)\n",
    "        return out\n",
    "    \n",
    "    def generate(self, x, max_len=20):\n",
    "        # encode\n",
    "        x_embed = self.embedding(x)\n",
    "        henc, h = self.encoder(x_embed)\n",
    "\n",
    "        # Initialize with start token\n",
    "        token = torch.tensor([[token_to_index['[S]']]]).to(x.device)\n",
    "\n",
    "        result = []\n",
    "        attentions = []\n",
    "\n",
    "        for _ in range(max_len):\n",
    "            token_embed = self.embedding(token)\n",
    "            hdec, h = self.decoder(token_embed, h) # first time it takes the hidden state from encoder. Next time onwards, last hidden it takes it from the decoder.\n",
    "\n",
    "            # Attention\n",
    "            query = self.query(hdec)\n",
    "            context, scores = self.attention(query, henc, henc)\n",
    "\n",
    "            # Output\n",
    "            out = torch.cat([hdec, context], dim=2)\n",
    "            out = self.out(out)\n",
    "\n",
    "            # Select next token (greedy decoding)\n",
    "            token = torch.argmax(out, dim=2)\n",
    "            result.append(token.item())\n",
    "            attentions.append(scores)\n",
    "\n",
    "            if token[0].item() == token_to_index['[S]']:\n",
    "                break\n",
    "\n",
    "        return result, attentions"
   ]
  },
  {
   "cell_type": "markdown",
   "id": "473d898f",
   "metadata": {},
   "source": [
    "#### Training"
   ]
  },
  {
   "cell_type": "code",
   "execution_count": 92,
   "id": "8c303345",
   "metadata": {},
   "outputs": [
    {
     "name": "stdout",
     "output_type": "stream",
     "text": [
      "tensor([[ 9, 14,  0, 11, 17, 16, 17, 23,  4,  3, 11,  8, 27, 27],\n",
      "        [ 3, 14,  4, 21, 11, 16, 24, 15, 11, 18,  0, 22, 27, 27],\n",
      "        [ 0,  5,  3,  6,  8, 16, 11, 11,  4,  7, 13, 17,  0, 23]])\n",
      "tensor([[26, 11,  4, 17, 17,  0,  9, 27],\n",
      "        [26,  0, 11, 24, 11,  4,  3, 27],\n",
      "        [26,  0, 13,  4, 11,  8,  3,  0]])\n",
      "tensor([[11,  4, 17, 17,  0,  9, 26, 27],\n",
      "        [ 0, 11, 24, 11,  4,  3, 26, 27],\n",
      "        [ 0, 13,  4, 11,  8,  3,  0, 26]])\n"
     ]
    }
   ],
   "source": [
    "def pad_batch(x, y_in, y_out):\n",
    "    '''Padding the tokens so, that it would of same length'''\n",
    "    max_len_x = max(len(x_inter) for x_inter in x)\n",
    "    max_len_y = max(len(y) for y in y_in)\n",
    "    x_pad = torch.tensor([x_inter + [token_to_index['[PAD]']] * (max_len_x - len(x_inter)) for x_inter in x])\n",
    "    y_in_pad = torch.tensor([y + [token_to_index['[PAD]']] * (max_len_y - len(y)) for y in y_in])\n",
    "    y_out_pad = torch.tensor([y + [token_to_index['[PAD]']] * (max_len_y - len(y)) for y in y_out])\n",
    "    return x_pad, y_in_pad, y_out_pad\n",
    "\n",
    "xp, yip, yop = pad_batch(x_train[:3], y_in_train[:3], y_out_train[:3])\n",
    "print(xp)\n",
    "print(yip)\n",
    "print(yop)"
   ]
  },
  {
   "cell_type": "code",
   "execution_count": 98,
   "id": "929c44c7",
   "metadata": {},
   "outputs": [
    {
     "name": "stdout",
     "output_type": "stream",
     "text": [
      "Epoch [1/1], Loss: 0.9517\n",
      "Epoch [1/1], Validation Loss: 0.1825\n"
     ]
    }
   ],
   "source": [
    "## Training Loop\n",
    "# Defining the model\n",
    "model = EncoderDecoder(vocab_size=len(token_to_index), embed_size=64, hidden_size=32)\n",
    "\n",
    "# Hyperparameters\n",
    "learning_rate = 0.001\n",
    "num_epochs = 1\n",
    "batch_size = 8\n",
    "\n",
    "\n",
    "# Defining loss and optimizer\n",
    "criterion = nn.CrossEntropyLoss(ignore_index=token_to_index['[PAD]'])\n",
    "optimizer = optim.Adam(model.parameters(), lr=learning_rate)\n",
    "\n",
    "# Learning schedular\n",
    "scheduler = optim.lr_scheduler.CosineAnnealingLR(optimizer=optimizer, T_max=num_epochs)\n",
    "\n",
    "# Training loop\n",
    "for epoch in range(num_epochs):\n",
    "    # Reshuffle the data after each batch\n",
    "    perm = torch.randperm(len(x_train))\n",
    "    x_train = [x_train[i] for i in perm]\n",
    "    y_in_train = [y_in_train[i] for i in perm]\n",
    "    y_out_train = [y_out_train[i] for i in perm]\n",
    "\n",
    "    model.train()\n",
    "    total_loss = 0\n",
    "    for i in range(0, len(x_train), batch_size):\n",
    "        x_batch = x_train[i: i+batch_size]\n",
    "        y_in_batch = y_in_train[i: i+batch_size]\n",
    "        y_out_batch = y_out_train[i: i+batch_size]\n",
    "\n",
    "        # pad batch\n",
    "        x_batch, y_in_batch, y_out_batch = pad_batch(x_batch, y_in_batch, y_out_batch)\n",
    "\n",
    "        # Forward\n",
    "        outputs = model(x_batch, y_in_batch)\n",
    "        outputs = outputs.view(-1, len(token_to_index))\n",
    "        y_batch = y_out_batch.view(-1)\n",
    "        loss = criterion(outputs, y_batch)\n",
    "\n",
    "        # Backward pass and optimization\n",
    "        optimizer.zero_grad()\n",
    "        loss.backward()\n",
    "        optimizer.step()\n",
    "\n",
    "        total_loss += loss.item()\n",
    "    \n",
    "    # Scheduler step\n",
    "    scheduler.step()\n",
    "\n",
    "    avg_loss = total_loss / (len(x_train) // batch_size)\n",
    "    print(f'Epoch [{epoch+1}/{num_epochs}], Loss: {avg_loss:.4f}')\n",
    "\n",
    "    # Evaluate validation loss\n",
    "    eval_loss = 0\n",
    "    model.eval()\n",
    "    with torch.no_grad():\n",
    "        for i in range(0, len(x_dev), batch_size):\n",
    "            X_batch = x_dev[i:i+batch_size]\n",
    "            Yin_batch = y_in_dev[i:i+batch_size]\n",
    "            Yout_batch = y_out_dev[i:i+batch_size]\n",
    "            # Pad batch \n",
    "            X_batch, Yin_batch, Yout_batch = pad_batch(X_batch, Yin_batch, Yout_batch)\n",
    "            outputs = model(X_batch, Yin_batch)\n",
    "\n",
    "            outputs = outputs.view(-1, len(token_to_index))\n",
    "            Y_batch = Yout_batch.view(-1)\n",
    "            loss = criterion(outputs, Y_batch)\n",
    "\n",
    "            eval_loss += loss.item()\n",
    "    avg_eval_loss = eval_loss / (len(x_dev) // batch_size)\n",
    "    print(f'Epoch [{epoch+1}/{num_epochs}], Validation Loss: {avg_eval_loss:.4f}')"
   ]
  },
  {
   "cell_type": "markdown",
   "id": "a4d624c5",
   "metadata": {},
   "source": [
    "#### Generation"
   ]
  },
  {
   "cell_type": "code",
   "execution_count": 102,
   "id": "d3bbe032",
   "metadata": {},
   "outputs": [
    {
     "name": "stdout",
     "output_type": "stream",
     "text": [
      "kaidence -> ecnediak\n",
      "Correct\n",
      "\n",
      "eretria -> airtere\n",
      "Correct\n",
      "\n",
      "nadiah -> haidan\n",
      "Correct\n",
      "\n",
      "price -> ecirp\n",
      "Correct\n",
      "\n",
      "naja -> ajan\n",
      "Correct\n",
      "\n",
      "masaki -> ikasam\n",
      "Correct\n",
      "\n",
      "rook -> koror\n",
      "Incorrect\n",
      "\n",
      "yanitza -> aztinay\n",
      "Correct\n",
      "\n",
      "ozzie -> eizzo\n",
      "Correct\n",
      "\n",
      "lazzaro -> orzazal\n",
      "Incorrect\n",
      "\n"
     ]
    }
   ],
   "source": [
    "# Generate\n",
    "model.eval()\n",
    "with torch.no_grad():\n",
    "    for i in range(10):\n",
    "        x = torch.tensor([x_test[i]])\n",
    "        y, _ = model.generate(x)\n",
    "        y = ''.join([index_to_token[i] for i in y])\n",
    "        # Remove [S] from the end of y\n",
    "        y = y.split('[S]')[0]\n",
    "\n",
    "        # Print original and generated names\n",
    "        print(data[n2+i], end=' -> ')\n",
    "        print(y)\n",
    "        # Check if it was reversed correctly\n",
    "        correct = data[n2+i][::-1] == y\n",
    "        print('Correct' if correct else 'Incorrect')\n",
    "        print()"
   ]
  },
  {
   "cell_type": "markdown",
   "id": "81a54ca8",
   "metadata": {},
   "source": [
    "#### Visualize Attention"
   ]
  },
  {
   "cell_type": "code",
   "execution_count": 100,
   "id": "4a99ff93",
   "metadata": {},
   "outputs": [
    {
     "name": "stdout",
     "output_type": "stream",
     "text": [
      "henley -> yelneh\n"
     ]
    }
   ],
   "source": [
    "# Visualize attention for an example\n",
    "\n",
    "import matplotlib.pyplot as plt\n",
    "\n",
    "# Random example index\n",
    "index = torch.randint(0, len(x_test), (1,)).item()\n",
    "\n",
    "model.eval()\n",
    "with torch.no_grad():\n",
    "    x = torch.tensor([x_test[index]])\n",
    "    y, attentions = model.generate(x)\n",
    "\n",
    "    # Print original and generated names\n",
    "    y = ''.join([index_to_token[i] for i in y])\n",
    "    # Remove [S] from the end of y\n",
    "    y = y.split('[S]')[0]\n",
    "    print(data[n2+index], end=' -> ')\n",
    "    print(y)\n",
    "\n",
    "attentions = torch.cat(attentions, dim=2).squeeze().cpu().numpy()"
   ]
  },
  {
   "cell_type": "code",
   "execution_count": 101,
   "id": "e56dc1cf",
   "metadata": {},
   "outputs": [
    {
     "data": {
      "image/png": "[encoded data removed]",
      "text/plain": [
       "<Figure size 600x600 with 2 Axes>"
      ]
     },
     "metadata": {},
     "output_type": "display_data"
    }
   ],
   "source": [
    "xtext = x_test[index]\n",
    "xtext = [index_to_token[i] for i in xtext]\n",
    "ytext = list(y) + ['[S]']\n",
    "\n",
    "# Recall that each column is the attention weights for a token in the output\n",
    "plt.figure(figsize=(6, 6))\n",
    "\n",
    "plt.imshow(attentions, cmap='Greys')\n",
    "# Matplot lib reverses the y-axis, so we need to reverse the labels\n",
    "plt.gca().invert_yaxis()\n",
    "plt.xticks(range(len(ytext)), ytext, rotation=45)\n",
    "\n",
    "# Make the non-noise tokens blue in the yticks, and the noise tokens red\n",
    "plt.yticks(range(len(xtext)), xtext, rotation=45)\n",
    "for i, label in enumerate(plt.gca().get_yticklabels()):\n",
    "    if i % 2 == 0:\n",
    "        label.set_color('black')\n",
    "    else:\n",
    "        label.set_color('red')\n",
    "\n",
    "plt.ylabel('Input')\n",
    "plt.xlabel('Output')\n",
    "\n",
    "plt.title('Attention Visualization\\nString Reversal (noise tokens in red)')\n",
    "\n",
    "plt.colorbar()\n",
    "plt.savefig('attention.png', dpi=300)\n",
    "# plt.show()"
   ]
  },
  {
   "cell_type": "markdown",
   "id": "a1676d1a",
   "metadata": {},
   "source": [
    "#### Saving the model"
   ]
  },
  {
   "cell_type": "code",
   "execution_count": 104,
   "id": "4c341957",
   "metadata": {},
   "outputs": [],
   "source": [
    "torch.save(model, 'encoder_decoder.pt')"
   ]
  },
  {
   "cell_type": "code",
   "execution_count": 107,
   "id": "d7f1db6a",
   "metadata": {},
   "outputs": [],
   "source": [
    "model_2 = torch.load( 'encoder_decoder.pt', weights_only=False)"
   ]
  },
  {
   "cell_type": "code",
   "execution_count": 109,
   "id": "b0b8ae65",
   "metadata": {},
   "outputs": [
    {
     "name": "stdout",
     "output_type": "stream",
     "text": [
      "kaedynce -> ecnydeak\n"
     ]
    }
   ],
   "source": [
    "# Visualize attention for an example\n",
    "\n",
    "import matplotlib.pyplot as plt\n",
    "\n",
    "# Random example index\n",
    "index = torch.randint(0, len(x_test), (1,)).item()\n",
    "\n",
    "model.eval()\n",
    "with torch.no_grad():\n",
    "    x = torch.tensor([x_test[index]])\n",
    "    y, attentions = model_2.generate(x)\n",
    "\n",
    "    # Print original and generated names\n",
    "    y = ''.join([index_to_token[i] for i in y])\n",
    "    # Remove [S] from the end of y\n",
    "    y = y.split('[S]')[0]\n",
    "    print(data[n2+index], end=' -> ')\n",
    "    print(y)\n",
    "\n",
    "attentions = torch.cat(attentions, dim=2).squeeze().cpu().numpy()"
   ]
  },
  {
   "cell_type": "code",
   "execution_count": 129,
   "id": "1d8b0e35",
   "metadata": {},
   "outputs": [
    {
     "name": "stderr",
     "output_type": "stream",
     "text": [
      "C:\\Users\\anilk\\AppData\\Local\\Temp\\ipykernel_28072\\4183934554.py:11: DeprecationWarning: You are using the legacy TorchScript-based ONNX export. Starting in PyTorch 2.9, the new torch.export-based ONNX exporter will be the default. To switch now, set dynamo=True in torch.onnx.export. This new exporter supports features like exporting LLMs with DynamicCache. We encourage you to try it and share feedback to help improve the experience. Learn more about the new export logic: https://pytorch.org/docs/stable/onnx_dynamo.html. For exporting control flow: https://pytorch.org/tutorials/beginner/onnx/export_control_flow_model_to_onnx_tutorial.html.\n",
      "  torch.onnx.export(model, (dummy_x, dummy_y), \"encoder_decoder.onnx\",\n",
      "c:\\Users\\anilk\\anaconda3\\envs\\torch_gpu\\Lib\\site-packages\\torch\\onnx\\symbolic_opset9.py:4244: UserWarning: Exporting a model to ONNX with a batch_size other than 1, with a variable length with GRU can cause an error when running the ONNX model with a different batch size. Make sure to save the model with a batch size of 1, or define the initial states (h0/c0) as inputs of the model. \n",
      "  warnings.warn(\n"
     ]
    }
   ],
   "source": [
    "# To visualize the model graph better converting into to ONNX\n",
    "# Shapes\n",
    "batch_size = 1\n",
    "x_seq_len = 14\n",
    "y_seq_len = 8\n",
    "vocab_size = 28  # based on your max index\n",
    "\n",
    "# Dummy x and y with random integers in [0, vocab_size)\n",
    "dummy_x = torch.randint(0, vocab_size, (batch_size, x_seq_len))\n",
    "dummy_y = torch.randint(0, vocab_size, (batch_size, y_seq_len))\n",
    "torch.onnx.export(model, (dummy_x, dummy_y), \"encoder_decoder.onnx\",\n",
    "                  input_names=['x','y_in'], output_names=['out'],\n",
    "                  opset_version=14)"
   ]
  },
  {
   "cell_type": "code",
   "execution_count": null,
   "id": "22558ba1",
   "metadata": {},
   "outputs": [],
   "source": []
  }
 ],
 "metadata": {
  "kernelspec": {
   "display_name": "torch_gpu",
   "language": "python",
   "name": "python3"
  },
  "language_info": {
   "codemirror_mode": {
    "name": "ipython",
    "version": 3
   },
   "file_extension": ".py",
   "mimetype": "text/x-python",
   "name": "python",
   "nbconvert_exporter": "python",
   "pygments_lexer": "ipython3",
   "version": "3.11.13"
  }
 },
 "nbformat": 4,
 "nbformat_minor": 5
}
