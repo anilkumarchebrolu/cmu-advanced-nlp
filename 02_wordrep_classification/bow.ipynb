{
 "cells": [
  {
   "cell_type": "markdown",
   "id": "85e2e67c",
   "metadata": {},
   "source": [
    "> **Note:** This notebook is my personal practice notebook on Feedforward neural language model\n",
    ">  \n",
    "> I’m following along with the course materials and using ideas/code inspired by:\n",
    "> \n",
    "> - [CMU ANLP Course Page](https://cmu-l3.github.io/anlp-spring2025/)  \n",
    ">   *(Lecture 2: Neural Bag-of-Words Classifiers, Spring 2025)*  "
   ]
  },
  {
   "cell_type": "markdown",
   "id": "64c5b0c4",
   "metadata": {},
   "source": [
    "## Notebook Outline\n",
    "\n",
    "1. [Training Tokenizer](#Training-Tokenizer)\n",
    "2. [Data Loading](#Data-Loading)\n",
    "3. [Understanding Concepts](#Understanding-Concepts)\n",
    "4. [Continuous Bag of Words](#Continuous-Bag-of-Words)"
   ]
  },
  {
   "cell_type": "code",
   "execution_count": 61,
   "id": "75e60e37",
   "metadata": {},
   "outputs": [],
   "source": [
    "# Imports\n",
    "import json\n",
    "import os\n",
    "import pandas as pd\n",
    "import random\n",
    "import time\n",
    "import torch\n",
    "import sentencepiece as spm\n",
    "\n",
    "from torch import nn\n",
    "from torch.nn import functional as F"
   ]
  },
  {
   "cell_type": "markdown",
   "id": "43375276",
   "metadata": {},
   "source": [
    "### Training Tokenizer"
   ]
  },
  {
   "cell_type": "code",
   "execution_count": 2,
   "id": "73df2c39",
   "metadata": {},
   "outputs": [
    {
     "data": {
      "text/html": [
       "<div>\n",
       "<style scoped>\n",
       "    .dataframe tbody tr th:only-of-type {\n",
       "        vertical-align: middle;\n",
       "    }\n",
       "\n",
       "    .dataframe tbody tr th {\n",
       "        vertical-align: top;\n",
       "    }\n",
       "\n",
       "    .dataframe thead th {\n",
       "        text-align: right;\n",
       "    }\n",
       "</style>\n",
       "<table border=\"1\" class=\"dataframe\">\n",
       "  <thead>\n",
       "    <tr style=\"text-align: right;\">\n",
       "      <th></th>\n",
       "      <th>id</th>\n",
       "      <th>text</th>\n",
       "      <th>label</th>\n",
       "      <th>label_text</th>\n",
       "    </tr>\n",
       "  </thead>\n",
       "  <tbody>\n",
       "    <tr>\n",
       "      <th>0</th>\n",
       "      <td>cb774db0d1</td>\n",
       "      <td>I`d have responded, if I were going</td>\n",
       "      <td>1</td>\n",
       "      <td>neutral</td>\n",
       "    </tr>\n",
       "    <tr>\n",
       "      <th>1</th>\n",
       "      <td>549e992a42</td>\n",
       "      <td>Sooo SAD I will miss you here in San Diego!!!</td>\n",
       "      <td>0</td>\n",
       "      <td>negative</td>\n",
       "    </tr>\n",
       "    <tr>\n",
       "      <th>2</th>\n",
       "      <td>088c60f138</td>\n",
       "      <td>my boss is bullying me...</td>\n",
       "      <td>0</td>\n",
       "      <td>negative</td>\n",
       "    </tr>\n",
       "    <tr>\n",
       "      <th>3</th>\n",
       "      <td>9642c003ef</td>\n",
       "      <td>what interview! leave me alone</td>\n",
       "      <td>0</td>\n",
       "      <td>negative</td>\n",
       "    </tr>\n",
       "    <tr>\n",
       "      <th>4</th>\n",
       "      <td>358bd9e861</td>\n",
       "      <td>Sons of ****, why couldn`t they put them on t...</td>\n",
       "      <td>0</td>\n",
       "      <td>negative</td>\n",
       "    </tr>\n",
       "  </tbody>\n",
       "</table>\n",
       "</div>"
      ],
      "text/plain": [
       "           id                                               text  label  \\\n",
       "0  cb774db0d1                I`d have responded, if I were going      1   \n",
       "1  549e992a42      Sooo SAD I will miss you here in San Diego!!!      0   \n",
       "2  088c60f138                          my boss is bullying me...      0   \n",
       "3  9642c003ef                     what interview! leave me alone      0   \n",
       "4  358bd9e861   Sons of ****, why couldn`t they put them on t...      0   \n",
       "\n",
       "  label_text  \n",
       "0    neutral  \n",
       "1   negative  \n",
       "2   negative  \n",
       "3   negative  \n",
       "4   negative  "
      ]
     },
     "execution_count": 2,
     "metadata": {},
     "output_type": "execute_result"
    }
   ],
   "source": [
    "# Understanding tweet sentiment dataset (https://huggingface.co/datasets/mteb/tweet_sentiment_extraction)\n",
    "df = pd.read_json('train.jsonl', lines=True)\n",
    "df.head()"
   ]
  },
  {
   "cell_type": "code",
   "execution_count": 11,
   "id": "838b0f99",
   "metadata": {},
   "outputs": [],
   "source": [
    "# Writing all the sentences into a single text file\n",
    "with open('bow_tokenizer.txt', 'w', encoding='utf-8') as f:\n",
    "    for _, text in df['text'].items():\n",
    "        f.write(text)\n",
    "        f.write('\\n')\n"
   ]
  },
  {
   "cell_type": "code",
   "execution_count": 67,
   "id": "ee374996",
   "metadata": {},
   "outputs": [],
   "source": [
    "# Training a sentence piece trainer \n",
    "spm.SentencePieceTrainer.train(\n",
    "    input='bow_tokenizer.txt',\n",
    "    input_format='text',\n",
    "    model_prefix='bow_tok',\n",
    "    model_type='bpe',\n",
    "    vocab_size=1024,\n",
    "    byte_fallback=True,\n",
    "    num_threads=os.cpu_count()\n",
    ")"
   ]
  },
  {
   "cell_type": "code",
   "execution_count": 69,
   "id": "6d49efba",
   "metadata": {},
   "outputs": [
    {
     "name": "stdout",
     "output_type": "stream",
     "text": [
      "[[\"'\", 1000], ['4', 1001], ['K', 1002], [')', 1003], ['5', 1004], ['&', 1005], ['(', 1006], ['V', 1007], ['q', 1008], ['6', 1009], ['#', 1010], ['8', 1011], ['7', 1012], ['9', 1013], [';', 1014], ['<', 1015], ['@', 1016], ['=', 1017], ['¿', 1018], ['ï', 1019]]\n"
     ]
    }
   ],
   "source": [
    "sp = spm.SentencePieceProcessor()\n",
    "sp.load('bow_tok.model')\n",
    "\n",
    "vocab = [[sp.id_to_piece(idx), idx]for idx in range(sp.get_piece_size())]\n",
    "print(vocab[1000:1020])"
   ]
  },
  {
   "cell_type": "markdown",
   "id": "8dd48d6c",
   "metadata": {},
   "source": [
    "### Data Loading\n",
    "\n",
    "Read in the data, tokenize it, and split it into a training and dev set. "
   ]
  },
  {
   "cell_type": "code",
   "execution_count": 70,
   "id": "5ff0ec5c",
   "metadata": {},
   "outputs": [],
   "source": [
    "def dataset_creation(file_name:str, sp:spm.SentencePieceProcessor):\n",
    "    '''Read file and convert each sentence into tokens and also map tokens to a label'''\n",
    "    df = pd.read_json(file_name, lines=True)\n",
    "    for _, row in df.iterrows():\n",
    "        label_to_text[row['label']]=row['label_text']\n",
    "        tokens = sp.encode(row['text'])\n",
    "        yield (tokens, row['label'])"
   ]
  },
  {
   "cell_type": "code",
   "execution_count": 71,
   "id": "efda4212",
   "metadata": {},
   "outputs": [],
   "source": [
    "label_to_text = {}\n",
    "df = pd.read_json('train.jsonl', lines=True)\n",
    "for _, row in df.iterrows():\n",
    "    label_to_text[row['label']]=row['label_text']\n",
    "\n",
    "# Read in the data\n",
    "ds = list(dataset_creation(\"train.jsonl\", sp))\n",
    "random.shuffle(ds)\n",
    "train = ds[:-1000]\n",
    "dev = ds[1000:]\n",
    "\n",
    "nwords = len(sp)\n",
    "ntags = len(label_to_text)"
   ]
  },
  {
   "cell_type": "markdown",
   "id": "e25cdb1b",
   "metadata": {},
   "source": [
    "### Understanding Concepts"
   ]
  },
  {
   "cell_type": "code",
   "execution_count": 72,
   "id": "25b376ef",
   "metadata": {},
   "outputs": [],
   "source": [
    "class Embedding(nn.Module):\n",
    "    '''Building embedddin layer from scratch'''\n",
    "    def __init__(self, vocab_size, embedding_size):\n",
    "        super(Embedding, self).__init__()\n",
    "        self.weight = nn.Parameter(torch.randn(vocab_size, embedding_size))\n",
    "        self.vocab_size = vocab_size\n",
    "\n",
    "        nn.init.xavier_uniform_(self.weight)\n",
    "    def forward(self, x):\n",
    "        x = F.one_hot(x, num_classes=self.vocab_size).float\n",
    "        x = torch.matmul(x, self.weight)\n",
    "        return x"
   ]
  },
  {
   "cell_type": "code",
   "execution_count": 73,
   "id": "864e7e9f",
   "metadata": {},
   "outputs": [],
   "source": [
    "def ce_loss(logits, target):\n",
    "    '''Computes cross entropy loss'''\n",
    "    log_probs = F.log_softmax(logits, dim=1)\n",
    "    loss = -log_probs[torch.arange(len(logits)), target]\n",
    "    return loss.mean()\n"
   ]
  },
  {
   "cell_type": "code",
   "execution_count": 74,
   "id": "f436a8fd",
   "metadata": {},
   "outputs": [
    {
     "data": {
      "text/plain": [
       "tensor(0.0003)"
      ]
     },
     "execution_count": 74,
     "metadata": {},
     "output_type": "execute_result"
    }
   ],
   "source": [
    "ce_loss(torch.tensor([[19.1, 9.5, 0.15], [0.2, 9.1, 0.2], [0.2, 9.1, 1.3]]), torch.tensor([0, 1, 1]))"
   ]
  },
  {
   "cell_type": "markdown",
   "id": "a3f1b9e3",
   "metadata": {},
   "source": [
    "### Continuous Bag of Words"
   ]
  },
  {
   "cell_type": "code",
   "execution_count": 75,
   "id": "00e46cec",
   "metadata": {},
   "outputs": [],
   "source": [
    "class CBoW(nn.Module):\n",
    "    def __init__(self, vocab_size, embedding_size, num_labels):\n",
    "        super(CBoW, self).__init__()\n",
    "        self.embedding = nn.Embedding(num_embeddings=vocab_size, embedding_dim=embedding_size)\n",
    "        self.output_layer = nn.Linear(embedding_size, num_labels)\n",
    "\n",
    "        nn.init.xavier_uniform_(self.embedding.weight)\n",
    "        nn.init.xavier_uniform_(self.output_layer.weight)\n",
    "    \n",
    "    def forward(self, tokens):\n",
    "        emb = self.embedding(tokens)\n",
    "        emb_sum = torch.sum(emb, dim=0)\n",
    "        h = emb_sum.view(1, -1)\n",
    "        logits = self.output_layer(h)\n",
    "        return logits\n"
   ]
  },
  {
   "cell_type": "code",
   "execution_count": 76,
   "id": "7cefab5b",
   "metadata": {},
   "outputs": [
    {
     "name": "stdout",
     "output_type": "stream",
     "text": [
      "iter 0: train loss/sent=0.8728, time=27.18s\n",
      "iter 0: dev acc=0.6682\n",
      "iter 1: train loss/sent=0.8068, time=28.56s\n",
      "iter 1: dev acc=0.6751\n",
      "iter 2: train loss/sent=0.7928, time=27.80s\n",
      "iter 2: dev acc=0.6783\n",
      "iter 3: train loss/sent=0.7855, time=28.80s\n",
      "iter 3: dev acc=0.6798\n",
      "iter 4: train loss/sent=0.7819, time=31.19s\n",
      "iter 4: dev acc=0.6777\n"
     ]
    }
   ],
   "source": [
    "EMB_SIZE=32\n",
    "model = CBoW(nwords, EMB_SIZE, ntags)\n",
    "criterion = nn.CrossEntropyLoss()\n",
    "optimizer = torch.optim.Adam(model.parameters(), lr=5e-4)\n",
    "\n",
    "for ITER in range(5):\n",
    "    random.shuffle(train)\n",
    "    train_loss = 0.0\n",
    "    start = time.time()\n",
    "    model.train()\n",
    "    for x, y in train:\n",
    "        x = torch.tensor(x, dtype=torch.long)\n",
    "        y = torch.tensor([y])\n",
    "        logits = model(x)\n",
    "        loss = criterion(logits, y)\n",
    "        train_loss += loss.item()\n",
    "        optimizer.zero_grad()\n",
    "        loss.backward()\n",
    "        optimizer.step()\n",
    "    print(\"iter %r: train loss/sent=%.4f, time=%.2fs\" % (\n",
    "                ITER, train_loss/len(train), time.time()-start))\n",
    "    model.eval()\n",
    "    # Perform testing\n",
    "    test_correct = 0.0\n",
    "    for x, y in dev:\n",
    "        x = torch.tensor(x, dtype=torch.long)\n",
    "        logits = model(x)[0].detach()\n",
    "        predict = logits.argmax().item()\n",
    "        if predict == y:\n",
    "            test_correct += 1\n",
    "    print(\"iter %r: dev acc=%.4f\" % (ITER, test_correct/len(dev)))"
   ]
  },
  {
   "cell_type": "code",
   "execution_count": null,
   "id": "a98df1b6",
   "metadata": {},
   "outputs": [],
   "source": []
  }
 ],
 "metadata": {
  "kernelspec": {
   "display_name": "torch_gpu",
   "language": "python",
   "name": "python3"
  },
  "language_info": {
   "codemirror_mode": {
    "name": "ipython",
    "version": 3
   },
   "file_extension": ".py",
   "mimetype": "text/x-python",
   "name": "python",
   "nbconvert_exporter": "python",
   "pygments_lexer": "ipython3",
   "version": "3.11.13"
  }
 },
 "nbformat": 4,
 "nbformat_minor": 5
}
